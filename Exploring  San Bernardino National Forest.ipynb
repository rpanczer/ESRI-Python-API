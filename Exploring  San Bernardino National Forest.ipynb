{
 "cells": [
  {
   "cell_type": "code",
   "execution_count": 49,
   "metadata": {
    "collapsed": true,
    "extensions": {
     "jupyter_dashboards": {
      "version": 1,
      "views": {
       "grid_default": {
        "hidden": true
       },
       "report_default": {}
      }
     }
    }
   },
   "outputs": [],
   "source": [
    "from arcgis.gis import GIS\n",
    "from arcgis.geocoding import geocode\n",
    "from arcgis import geometry\n",
    "\n",
    "import pandas as pd\n",
    "\n",
    "#connect as an anonmyous user\n",
    "gis = GIS()\n"
   ]
  },
  {
   "cell_type": "code",
   "execution_count": 50,
   "metadata": {
    "extensions": {
     "jupyter_dashboards": {
      "version": 1,
      "views": {
       "grid_default": {
        "col": 0,
        "height": 15,
        "hidden": false,
        "row": 0,
        "width": null
       },
       "report_default": {}
      }
     }
    }
   },
   "outputs": [
    {
     "data": {
      "application/vnd.jupyter.widget-view+json": {
       "model_id": "f030a3cad9194f9bb0e2a108dc26b878"
      }
     },
     "metadata": {},
     "output_type": "display_data"
    }
   ],
   "source": [
    "#Hi my name is Bobby Panczer, I am a Python Developer with a love for finding hidden knowledge buried in data.\n",
    "#Also I have a love for automation..\n",
    "#Upon learning the Python API, I always wondered..\n",
    "#Where exactly is ESRI on a map anyway?\n",
    "#I grew up in Pennsylvania and never explored California much.\n",
    "\n",
    "#Create a map centered on the ESRI HQ address & display it.\n",
    "esri_address = \"380 New York St, Redlands, CA 92373\"\n",
    "esri_map = gis.map(esri_address, zoomlevel=10)\n",
    "display(esri_map)\n"
   ]
  },
  {
   "cell_type": "code",
   "execution_count": 51,
   "metadata": {
    "collapsed": true,
    "extensions": {
     "jupyter_dashboards": {
      "version": 1,
      "views": {
       "grid_default": {
        "hidden": true
       },
       "report_default": {}
      }
     }
    }
   },
   "outputs": [],
   "source": [
    "#plot ESRI headquaters location on the above map\n",
    "esri_loc = geocode(esri_address)[0]\n",
    "sym = {\"color\": [255,255,255,255], \n",
    "       \"size\": 3, \n",
    "       \"type\": \"esriSMS\", \n",
    "       \"style\": \"esriSMSCircle\"}\n",
    "popup = { \n",
    "    \"title\" : \"ESRI\",\n",
    "    \"address\" : esri_loc['address']\n",
    "    }\n",
    "esri_map.draw(esri_loc['location'], sym)"
   ]
  },
  {
   "cell_type": "code",
   "execution_count": 52,
   "metadata": {
    "extensions": {
     "jupyter_dashboards": {
      "version": 1,
      "views": {
       "grid_default": {
        "hidden": true
       },
       "report_default": {}
      }
     }
    },
    "scrolled": true
   },
   "outputs": [
    {
     "data": {
      "application/vnd.jupyter.widget-view+json": {
       "model_id": "a701df8f395c4df5b721ed83e0ab2f59"
      }
     },
     "metadata": {},
     "output_type": "display_data"
    }
   ],
   "source": [
    "#If I visit, I want to explore the area and find a place to hike. San Bernardino National Forest looks good\n",
    "sb_map = gis.map(\"san bernardino\",zoomlevel=11)\n",
    "display(sb_map)"
   ]
  },
  {
   "cell_type": "code",
   "execution_count": 53,
   "metadata": {
    "extensions": {
     "jupyter_dashboards": {
      "version": 1,
      "views": {
       "grid_default": {
        "col": 0,
        "height": 59,
        "hidden": false,
        "row": 15,
        "width": 4
       },
       "report_default": {}
      }
     }
    }
   },
   "outputs": [
    {
     "data": {
      "text/html": [
       "<div class=\"item_container\" style=\"height: auto; overflow: hidden; border: 1px solid #cfcfcf; border-radius: 2px; background: #f6fafa; line-height: 1.21429em; padding: 10px;\">\n",
       "                    <div class=\"item_left\" style=\"width: 210px; float: left;\">\n",
       "                       <a href='http://www.arcgis.com/home/item.html?id=0eab5e8242e24ad0bed216bf50fead2c' target='_blank'>\n",
       "                        <img src='http://www.arcgis.com/sharing/rest//content/items/0eab5e8242e24ad0bed216bf50fead2c/info/thumbnail/ago_downloaded.png' class=\"itemThumbnail\">\n",
       "                       </a>\n",
       "                    </div>\n",
       "\n",
       "                    <div class=\"item_right\"     style=\"float: none; width: auto; overflow: hidden;\">\n",
       "                        <a href='http://www.arcgis.com/home/item.html?id=0eab5e8242e24ad0bed216bf50fead2c' target='_blank'><b>SoCal Hiking</b>\n",
       "                        </a>\n",
       "                        <br/>This is a map that features hiking trails and plans for SoCal.<img src='http://www.arcgis.com/home/js/jsapi/esri/css/images/item_type_icons/maps16.png' style=\"vertical-align:middle;\">Web Map by PaulDoherty\n",
       "                        <br/>Last Modified: October 23, 2014\n",
       "                        <br/>0 comments, 1,867 views\n",
       "                    </div>\n",
       "                </div>\n",
       "                "
      ],
      "text/plain": [
       "<Item title:\"SoCal Hiking\" type:Web Map owner:PaulDoherty>"
      ]
     },
     "metadata": {},
     "output_type": "display_data"
    },
    {
     "data": {
      "text/html": [
       "<div class=\"item_container\" style=\"height: auto; overflow: hidden; border: 1px solid #cfcfcf; border-radius: 2px; background: #f6fafa; line-height: 1.21429em; padding: 10px;\">\n",
       "                    <div class=\"item_left\" style=\"width: 210px; float: left;\">\n",
       "                       <a href='http://www.arcgis.com/home/item.html?id=aae60097d6b14d688e38802f3403b253' target='_blank'>\n",
       "                        <img src='http://www.arcgis.com/sharing/rest//content/items/aae60097d6b14d688e38802f3403b253/info/thumbnail/thumbnail.png' class=\"itemThumbnail\">\n",
       "                       </a>\n",
       "                    </div>\n",
       "\n",
       "                    <div class=\"item_right\"     style=\"float: none; width: auto; overflow: hidden;\">\n",
       "                        <a href='http://www.arcgis.com/home/item.html?id=aae60097d6b14d688e38802f3403b253' target='_blank'><b>Vision2BActive_USFS_Trails</b>\n",
       "                        </a>\n",
       "                        <br/>This service shows the USFS, motorized and nonmotorized trails within the San Bernardino National Forest <img src='http://www.arcgis.com/home/js/jsapi/esri/css/images/item_type_icons/featureshosted16.png' style=\"vertical-align:middle;\">Feature Layer Collection by Brent_Rolf\n",
       "                        <br/>Last Modified: December 06, 2016\n",
       "                        <br/>0 comments, 1,111 views\n",
       "                    </div>\n",
       "                </div>\n",
       "                "
      ],
      "text/plain": [
       "<Item title:\"Vision2BActive_USFS_Trails\" type:Feature Service owner:Brent_Rolf>"
      ]
     },
     "metadata": {},
     "output_type": "display_data"
    },
    {
     "data": {
      "text/html": [
       "<div class=\"item_container\" style=\"height: auto; overflow: hidden; border: 1px solid #cfcfcf; border-radius: 2px; background: #f6fafa; line-height: 1.21429em; padding: 10px;\">\n",
       "                    <div class=\"item_left\" style=\"width: 210px; float: left;\">\n",
       "                       <a href='http://www.arcgis.com/home/item.html?id=2f89da66501442719bce4790fcbc6252' target='_blank'>\n",
       "                        <img src='http://www.arcgis.com/sharing/rest//content/items/2f89da66501442719bce4790fcbc6252/info/thumbnail/ago_downloaded.png' class=\"itemThumbnail\">\n",
       "                       </a>\n",
       "                    </div>\n",
       "\n",
       "                    <div class=\"item_right\"     style=\"float: none; width: auto; overflow: hidden;\">\n",
       "                        <a href='http://www.arcgis.com/home/item.html?id=2f89da66501442719bce4790fcbc6252' target='_blank'><b>SoCal Hiking-29jan</b>\n",
       "                        </a>\n",
       "                        <br/>This is a map that features hiking trails and plans for SoCal.<img src='http://www.arcgis.com/home/js/jsapi/esri/css/images/item_type_icons/maps16.png' style=\"vertical-align:middle;\">Web Map by sagarnair_cssl\n",
       "                        <br/>Last Modified: February 28, 2014\n",
       "                        <br/>0 comments, 919 views\n",
       "                    </div>\n",
       "                </div>\n",
       "                "
      ],
      "text/plain": [
       "<Item title:\"SoCal Hiking-29jan\" type:Web Map owner:sagarnair_cssl>"
      ]
     },
     "metadata": {},
     "output_type": "display_data"
    },
    {
     "data": {
      "text/html": [
       "<div class=\"item_container\" style=\"height: auto; overflow: hidden; border: 1px solid #cfcfcf; border-radius: 2px; background: #f6fafa; line-height: 1.21429em; padding: 10px;\">\n",
       "                    <div class=\"item_left\" style=\"width: 210px; float: left;\">\n",
       "                       <a href='http://www.arcgis.com/home/item.html?id=e635305818704d8dbb7a98e3493c6b22' target='_blank'>\n",
       "                        <img src='http://www.arcgis.com/sharing/rest//content/items/e635305818704d8dbb7a98e3493c6b22/info/thumbnail/thumbnail.png' class=\"itemThumbnail\">\n",
       "                       </a>\n",
       "                    </div>\n",
       "\n",
       "                    <div class=\"item_right\"     style=\"float: none; width: auto; overflow: hidden;\">\n",
       "                        <a href='http://www.arcgis.com/home/item.html?id=e635305818704d8dbb7a98e3493c6b22' target='_blank'><b>San Gorgonio Mountain Hiking - ArcGIS Explorer Online</b>\n",
       "                        </a>\n",
       "                        <br/>He who has not ascended Grayback [San Gorgonio] is like a savage who listens to the tuning up of an orchestra and goes off pleased - thinking he has heard the concert. Theodore S. Van Dyke 1875<img src='http://www.arcgis.com/home/js/jsapi/esri/css/images/item_type_icons/maps16.png' style=\"vertical-align:middle;\">Web Map by PaulDoherty\n",
       "                        <br/>Last Modified: September 19, 2013\n",
       "                        <br/>1 comments, 378 views\n",
       "                    </div>\n",
       "                </div>\n",
       "                "
      ],
      "text/plain": [
       "<Item title:\"San Gorgonio Mountain Hiking - ArcGIS Explorer Online\" type:Web Map owner:PaulDoherty>"
      ]
     },
     "metadata": {},
     "output_type": "display_data"
    },
    {
     "data": {
      "text/html": [
       "<div class=\"item_container\" style=\"height: auto; overflow: hidden; border: 1px solid #cfcfcf; border-radius: 2px; background: #f6fafa; line-height: 1.21429em; padding: 10px;\">\n",
       "                    <div class=\"item_left\" style=\"width: 210px; float: left;\">\n",
       "                       <a href='http://www.arcgis.com/home/item.html?id=4ff2c3865b264357adaaf0cb6964c9c7' target='_blank'>\n",
       "                        <img src='http://www.arcgis.com/sharing/rest//content/items/4ff2c3865b264357adaaf0cb6964c9c7/info/thumbnail/Redlands.jpg' class=\"itemThumbnail\">\n",
       "                       </a>\n",
       "                    </div>\n",
       "\n",
       "                    <div class=\"item_right\"     style=\"float: none; width: auto; overflow: hidden;\">\n",
       "                        <a href='http://www.arcgis.com/home/item.html?id=4ff2c3865b264357adaaf0cb6964c9c7' target='_blank'><b>San Bernardino NF Hiking</b>\n",
       "                        </a>\n",
       "                        <br/>He who has not ascended Grayback [San Gorgonio] is like a savage who listens to the tuning up of an orchestra and goes off pleased - thinking he has heard the concert. Theodore S. Van Dyke 1875<img src='http://www.arcgis.com/home/js/jsapi/esri/css/images/item_type_icons/maps16.png' style=\"vertical-align:middle;\">Web Map by PaulDoherty\n",
       "                        <br/>Last Modified: September 29, 2014\n",
       "                        <br/>0 comments, 173 views\n",
       "                    </div>\n",
       "                </div>\n",
       "                "
      ],
      "text/plain": [
       "<Item title:\"San Bernardino NF Hiking\" type:Web Map owner:PaulDoherty>"
      ]
     },
     "metadata": {},
     "output_type": "display_data"
    }
   ],
   "source": [
    "#Now to find some hiking trails\n",
    "items = gis.content.search(\"san bernardino forest hiking trails\", max_items=5)\n",
    "\n",
    "for item in items:\n",
    "    display(item)"
   ]
  },
  {
   "cell_type": "code",
   "execution_count": 54,
   "metadata": {
    "collapsed": true,
    "extensions": {
     "jupyter_dashboards": {
      "version": 1,
      "views": {
       "grid_default": {
        "hidden": true
       },
       "report_default": {}
      }
     }
    }
   },
   "outputs": [],
   "source": [
    "#Add hiking trail layer from Vision2BActive to sb_map and ESRI HQ\n",
    "sb_map_layers = [temp_item for temp_item in items if temp_item.title == \"Vision2BActive_USFS_Trails\"]\n",
    "sb_map.add_layer(sb_map_layers[0])\n",
    "sb_map.draw(esri_loc['location'])"
   ]
  },
  {
   "cell_type": "code",
   "execution_count": 55,
   "metadata": {
    "collapsed": true,
    "extensions": {
     "jupyter_dashboards": {
      "version": 1,
      "views": {
       "grid_default": {
        "hidden": true
       },
       "report_default": {}
      }
     }
    }
   },
   "outputs": [],
   "source": [
    "#I trust USFS data. If I were to start at ESRI, what is the easiest way for me to drive to the start of a trail?\n",
    "#Also California is hot.. I really want to hike to a lake. What's a shorter route?"
   ]
  },
  {
   "cell_type": "code",
   "execution_count": null,
   "metadata": {
    "collapsed": true,
    "extensions": {
     "jupyter_dashboards": {
      "version": 1,
      "views": {
       "grid_default": {
        "hidden": true
       },
       "report_default": {}
      }
     }
    }
   },
   "outputs": [],
   "source": [
    "#NEXT STEPS-----------------------------------------------\n",
    "#Find 3 different locations. Request the user select a dropdown.\n",
    "#Run code to parking lot and estimate time\n",
    "#Run code to max X miles on trail. Calculate and display elevation change / distance\n",
    "#Summary printout\n",
    "#Clean up and present well"
   ]
  }
 ],
 "metadata": {
  "extensions": {
   "jupyter_dashboards": {
    "activeView": "grid_default",
    "version": 1,
    "views": {
     "grid_default": {
      "cellMargin": 10,
      "defaultCellHeight": 20,
      "maxColumns": 12,
      "name": "grid",
      "type": "grid"
     },
     "report_default": {
      "name": "report",
      "type": "report"
     }
    }
   }
  },
  "kernelspec": {
   "display_name": "Python 3",
   "language": "python",
   "name": "python3"
  },
  "language_info": {
   "codemirror_mode": {
    "name": "ipython",
    "version": 3
   },
   "file_extension": ".py",
   "mimetype": "text/x-python",
   "name": "python",
   "nbconvert_exporter": "python",
   "pygments_lexer": "ipython3",
   "version": "3.5.3"
  }
 },
 "nbformat": 4,
 "nbformat_minor": 2
}
