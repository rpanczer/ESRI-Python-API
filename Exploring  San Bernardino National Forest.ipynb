{
 "cells": [
  {
   "cell_type": "code",
   "execution_count": 1,
   "metadata": {
    "collapsed": true,
    "extensions": {
     "jupyter_dashboards": {
      "version": 1,
      "views": {
       "grid_default": {
        "hidden": true
       },
       "report_default": {}
      }
     }
    }
   },
   "outputs": [],
   "source": [
    "from arcgis.gis import GIS\n",
    "from arcgis.geocoding import geocode\n",
    "from arcgis import geometry\n",
    "import arcgis.network as network\n",
    "\n",
    "import pandas as pd\n",
    "\n",
    "#sign into GIS\n",
    "user_name = 'rpanczer'\n",
    "password = ''\n",
    "gis = GIS('https://www.arcgis.com', user_name, password)\n"
   ]
  },
  {
   "cell_type": "markdown",
   "metadata": {},
   "source": [
    "# ESRI Python API Sandbox\n",
    "***\n",
    "## Hi my name is Bobby Panczer, I am a Python Developer with a love for finding hidden knowledge buried in data.\n",
    "\n",
    "### Also I have a love for hiking..\n",
    "``` \n",
    "Where exactly is ESRI on a map anyway?\n",
    "I grew up in Pennsylvania and never explored California much.\n",
    "Create a map centered on the ESRI HQ address & display it.```\n",
    "***\n",
    "<br>\n",
    "## Map of my hometown of Nazareth, PA\n",
    "'''I'm a big fan of roadtrips.. \n",
    "How long would it take to get from my old town to some hiking trails near ESRI?'''"
   ]
  },
  {
   "cell_type": "code",
   "execution_count": 2,
   "metadata": {
    "extensions": {
     "jupyter_dashboards": {
      "version": 1,
      "views": {
       "grid_default": {
        "col": 0,
        "height": 15,
        "hidden": false,
        "row": 0,
        "width": null
       },
       "report_default": {}
      }
     }
    }
   },
   "outputs": [
    {
     "data": {
      "application/vnd.jupyter.widget-view+json": {
       "model_id": "373c083ac885464393b2fe36b7c674f2"
      }
     },
     "metadata": {},
     "output_type": "display_data"
    }
   ],
   "source": [
    "old_address = \"Nazareth, PA 18064\"\n",
    "test_endpoint = \"9723 Onyx St, Yucaipa, CA 92399\"\n",
    "town_map = gis.map(old_address, zoomlevel=13)\n",
    "display(town_map)\n"
   ]
  },
  {
   "cell_type": "code",
   "execution_count": 3,
   "metadata": {
    "collapsed": true,
    "extensions": {
     "jupyter_dashboards": {
      "version": 1,
      "views": {
       "grid_default": {
        "hidden": true
       },
       "report_default": {}
      }
     }
    }
   },
   "outputs": [],
   "source": [
    "#plot my old town's location on the above map\n",
    "town_loc = geocode(old_address)[0]\n",
    "test_endpoint_loc = geocode(test_endpoint)[0]\n",
    "sym = {\"color\": [255,255,255,255], \n",
    "       \"size\": 3, \n",
    "       \"type\": \"esriSMS\", \n",
    "       \"style\": \"esriSMSCircle\"}\n",
    "popup = { \n",
    "    \"title\" : \"My town\",\n",
    "    \"address\" : town_loc['address']\n",
    "    }\n",
    "town_map.draw(town_loc['location'], sym)"
   ]
  },
  {
   "cell_type": "code",
   "execution_count": 4,
   "metadata": {
    "extensions": {
     "jupyter_dashboards": {
      "version": 1,
      "views": {
       "grid_default": {
        "hidden": true
       },
       "report_default": {}
      }
     }
    },
    "scrolled": true
   },
   "outputs": [
    {
     "data": {
      "application/vnd.jupyter.widget-view+json": {
       "model_id": "3d359a032e7b418497603632be043579"
      }
     },
     "metadata": {},
     "output_type": "display_data"
    }
   ],
   "source": [
    "#If I visit, I want to explore the area and find a place to hike. San Bernardino National Forest looks good\n",
    "sb_map = gis.map(\"san bernardino\",zoomlevel=11)\n",
    "display(sb_map)"
   ]
  },
  {
   "cell_type": "code",
   "execution_count": 6,
   "metadata": {
    "collapsed": true,
    "extensions": {
     "jupyter_dashboards": {
      "version": 1,
      "views": {
       "grid_default": {
        "col": 0,
        "height": 59,
        "hidden": false,
        "row": 15,
        "width": 4
       },
       "report_default": {}
      }
     }
    }
   },
   "outputs": [],
   "source": [
    "#Now to find some hiking trails\n",
    "items = gis.content.search(\"san bernardino forest hiking trails\", max_items=5)\n",
    "\n",
    "for item in items:\n",
    "    display(item)"
   ]
  },
  {
   "cell_type": "code",
   "execution_count": 7,
   "metadata": {
    "extensions": {
     "jupyter_dashboards": {
      "version": 1,
      "views": {
       "grid_default": {
        "hidden": true
       },
       "report_default": {}
      }
     }
    },
    "scrolled": true
   },
   "outputs": [
    {
     "ename": "IndexError",
     "evalue": "list index out of range",
     "output_type": "error",
     "traceback": [
      "\u001b[1;31m---------------------------------------------------------------------------\u001b[0m",
      "\u001b[1;31mIndexError\u001b[0m                                Traceback (most recent call last)",
      "\u001b[1;32m<ipython-input-7-fc0541882851>\u001b[0m in \u001b[0;36m<module>\u001b[1;34m()\u001b[0m\n\u001b[0;32m      1\u001b[0m \u001b[1;31m#Add hiking trail layer from Vision2BActive to sb_map and ESRI HQ\u001b[0m\u001b[1;33m\u001b[0m\u001b[1;33m\u001b[0m\u001b[0m\n\u001b[0;32m      2\u001b[0m \u001b[0msb_map_layers\u001b[0m \u001b[1;33m=\u001b[0m \u001b[1;33m[\u001b[0m\u001b[0mtemp_item\u001b[0m \u001b[1;32mfor\u001b[0m \u001b[0mtemp_item\u001b[0m \u001b[1;32min\u001b[0m \u001b[0mitems\u001b[0m \u001b[1;32mif\u001b[0m \u001b[0mtemp_item\u001b[0m\u001b[1;33m.\u001b[0m\u001b[0mtitle\u001b[0m \u001b[1;33m==\u001b[0m \u001b[1;34m\"Vision2BActive_USFS_Trails\"\u001b[0m\u001b[1;33m]\u001b[0m\u001b[1;33m\u001b[0m\u001b[0m\n\u001b[1;32m----> 3\u001b[1;33m \u001b[0msb_map\u001b[0m\u001b[1;33m.\u001b[0m\u001b[0madd_layer\u001b[0m\u001b[1;33m(\u001b[0m\u001b[0msb_map_layers\u001b[0m\u001b[1;33m[\u001b[0m\u001b[1;36m0\u001b[0m\u001b[1;33m]\u001b[0m\u001b[1;33m)\u001b[0m\u001b[1;33m\u001b[0m\u001b[0m\n\u001b[0m\u001b[0;32m      4\u001b[0m \u001b[0msb_map\u001b[0m\u001b[1;33m.\u001b[0m\u001b[0mdraw\u001b[0m\u001b[1;33m(\u001b[0m\u001b[0mesri_loc\u001b[0m\u001b[1;33m[\u001b[0m\u001b[1;34m'location'\u001b[0m\u001b[1;33m]\u001b[0m\u001b[1;33m)\u001b[0m\u001b[1;33m\u001b[0m\u001b[0m\n",
      "\u001b[1;31mIndexError\u001b[0m: list index out of range"
     ]
    }
   ],
   "source": [
    "#Add hiking trail layer from Vision2BActive to sb_map and ESRI HQ\n",
    "sb_map_layers = [temp_item for temp_item in items if temp_item.title == \"Vision2BActive_USFS_Trails\"]\n",
    "sb_map.add_layer(sb_map_layers[0])\n",
    "sb_map.draw(esri_loc['location'])"
   ]
  },
  {
   "cell_type": "code",
   "execution_count": null,
   "metadata": {
    "collapsed": true,
    "extensions": {
     "jupyter_dashboards": {
      "version": 1,
      "views": {
       "grid_default": {
        "hidden": true
       },
       "report_default": {}
      }
     }
    }
   },
   "outputs": [],
   "source": [
    "#I trust USFS data. If I were to start at ESRI, what is the easiest way for me to drive to the start of a trail?\n",
    "#Also California is hot.. I really want to hike to a lake. What's a shorter route?"
   ]
  },
  {
   "cell_type": "code",
   "execution_count": null,
   "metadata": {
    "collapsed": true,
    "extensions": {
     "jupyter_dashboards": {
      "version": 1,
      "views": {
       "grid_default": {
        "hidden": true
       },
       "report_default": {}
      }
     }
    }
   },
   "outputs": [],
   "source": [
    "#NEXT STEPS-----------------------------------------------\n",
    "#Find 3 different locations. Request the user select a dropdown.\n",
    "#Run code to parking lot and estimate time\n",
    "#Run code to max X miles on trail. Calculate and display elevation change / distance\n",
    "#Summary printout\n",
    "#Clean up and present well"
   ]
  }
 ],
 "metadata": {
  "extensions": {
   "jupyter_dashboards": {
    "activeView": "grid_default",
    "version": 1,
    "views": {
     "grid_default": {
      "cellMargin": 10,
      "defaultCellHeight": 20,
      "maxColumns": 12,
      "name": "grid",
      "type": "grid"
     },
     "report_default": {
      "name": "report",
      "type": "report"
     }
    }
   }
  },
  "kernelspec": {
   "display_name": "Python 3",
   "language": "python",
   "name": "python3"
  },
  "language_info": {
   "codemirror_mode": {
    "name": "ipython",
    "version": 3
   },
   "file_extension": ".py",
   "mimetype": "text/x-python",
   "name": "python",
   "nbconvert_exporter": "python",
   "pygments_lexer": "ipython3",
   "version": "3.5.3"
  }
 },
 "nbformat": 4,
 "nbformat_minor": 2
}
