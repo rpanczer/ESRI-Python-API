{
 "cells": [
  {
   "cell_type": "code",
   "execution_count": null,
   "metadata": {
    "collapsed": true,
    "extensions": {
     "jupyter_dashboards": {
      "version": 1,
      "views": {
       "grid_default": {
        "hidden": true
       },
       "report_default": {}
      }
     }
    }
   },
   "outputs": [],
   "source": [
    "from arcgis.gis import GIS\n",
    "from arcgis.geocoding import geocode\n",
    "from arcgis import geometry\n",
    "\n",
    "\n",
    "import pandas as pd\n",
    "\n",
    "#connect as an anonmyous user\n",
    "gis = GIS()\n"
   ]
  },
  {
   "cell_type": "code",
   "execution_count": null,
   "metadata": {},
   "outputs": [],
   "source": [
    "#Hi my name is Bobby Panczer, I am a Python Developer with a love for finding hidden knowledge buried in data.\n",
    "#Also I have a love for automation..\n",
    "#Upon learning the Python API, I always wondered..\n",
    "#Where exactly is ESRI on a map anyway?\n",
    "#I grew up in Pennsylvania and never explored California much\n",
    "esri_address = \"380 New York St, Redlands, CA 92373\"\n",
    "esri_map = gis.map(esri_address, zoomlevel=10)\n",
    "display(esri_map)\n"
   ]
  },
  {
   "cell_type": "code",
   "execution_count": null,
   "metadata": {},
   "outputs": [],
   "source": [
    "#plot ESRI headquaters location on the above map\n",
    "geocoder = gis.tools.geocoder\n",
    "esri_loc = geocoder.geocode(esri_address)[0]\n",
    "popup = { \n",
    "    \"title\" : \"ESRI\", \n",
    "    \"content\" : esri_loc['address']\n",
    "    }\n",
    "map.draw(esri_loc['location'], popup)"
   ]
  },
  {
   "cell_type": "code",
   "execution_count": null,
   "metadata": {
    "extensions": {
     "jupyter_dashboards": {
      "version": 1,
      "views": {
       "grid_default": {
        "hidden": true
       },
       "report_default": {}
      }
     }
    },
    "scrolled": true
   },
   "outputs": [],
   "source": [
    "#If I visit, I want to explore the area and find a place to hike. San Bernardino National Forest looks good\n",
    "sb_map = gis.map(\"green valley lake\",zoomlevel=11)\n",
    "display(sb_map)"
   ]
  },
  {
   "cell_type": "code",
   "execution_count": null,
   "metadata": {},
   "outputs": [],
   "source": [
    "#Now to find some hiking trails\n",
    "items = gis.content.search(\"san bernardino forest hiking trails\", max_items=5)\n",
    "\n",
    "for item in items:\n",
    "    display(item)"
   ]
  },
  {
   "cell_type": "code",
   "execution_count": null,
   "metadata": {
    "collapsed": true
   },
   "outputs": [],
   "source": [
    "#Add hiking trail layer from Vision2BActive to sb_map\n",
    "sb_map_layers = [temp_item for temp_item in items if temp_item.title == \"Vision2BActive_USFS_Trails\"]\n",
    "sb_map.add_layer(sb_map_layers[0])\n"
   ]
  },
  {
   "cell_type": "code",
   "execution_count": null,
   "metadata": {
    "collapsed": true
   },
   "outputs": [],
   "source": [
    "#I trust USFS data. If I were to start at ESRI, what is the easiest way for me to drive to the start of a trail?\n",
    "#Also California is hot.. I really want to hike to a lake. What's a shorter route?"
   ]
  }
 ],
 "metadata": {
  "extensions": {
   "jupyter_dashboards": {
    "activeView": "grid_default",
    "version": 1,
    "views": {
     "grid_default": {
      "cellMargin": 10,
      "defaultCellHeight": 20,
      "maxColumns": 12,
      "name": "grid",
      "type": "grid"
     },
     "report_default": {
      "name": "report",
      "type": "report"
     }
    }
   }
  },
  "kernelspec": {
   "display_name": "Python 3",
   "language": "python",
   "name": "python3"
  },
  "language_info": {
   "codemirror_mode": {
    "name": "ipython",
    "version": 3
   },
   "file_extension": ".py",
   "mimetype": "text/x-python",
   "name": "python",
   "nbconvert_exporter": "python",
   "pygments_lexer": "ipython3",
   "version": "3.5.3"
  }
 },
 "nbformat": 4,
 "nbformat_minor": 2
}
